{
  "nbformat": 4,
  "nbformat_minor": 0,
  "metadata": {
    "colab": {
      "name": "Copy of Project2try2.ipynb",
      "provenance": [],
      "collapsed_sections": []
    },
    "kernelspec": {
      "name": "python3",
      "display_name": "Python 3"
    },
    "accelerator": "GPU"
  },
  "cells": [
    {
      "cell_type": "code",
      "metadata": {
        "id": "0YErHYnaQi0s",
        "colab_type": "code",
        "colab": {
          "base_uri": "https://localhost:8080/",
          "height": 34
        },
        "outputId": "4084940c-87e3-4edd-f61a-6cde343b72de"
      },
      "source": [
        "from google.colab import drive\n",
        "drive.mount('/content/drive')"
      ],
      "execution_count": 6,
      "outputs": [
        {
          "output_type": "stream",
          "text": [
            "Mounted at /content/drive\n"
          ],
          "name": "stdout"
        }
      ]
    },
    {
      "cell_type": "code",
      "metadata": {
        "id": "X7bcxN2R6TJl",
        "colab_type": "code",
        "colab": {}
      },
      "source": [
        "drive.flush_and_unmount()"
      ],
      "execution_count": 2,
      "outputs": []
    },
    {
      "cell_type": "code",
      "metadata": {
        "id": "MF3xsoGLQrpd",
        "colab_type": "code",
        "colab": {
          "base_uri": "https://localhost:8080/",
          "height": 34
        },
        "outputId": "abc5836a-9199-4c65-bfc2-e4f00e75b064"
      },
      "source": [
        "cd \"/content/drive/My Drive/Zindi project2\""
      ],
      "execution_count": 10,
      "outputs": [
        {
          "output_type": "stream",
          "text": [
            "/content/drive/My Drive/Zindi project2 (1)\n"
          ],
          "name": "stdout"
        }
      ]
    },
    {
      "cell_type": "code",
      "metadata": {
        "id": "v1wj8XIdQvuL",
        "colab_type": "code",
        "colab": {
          "base_uri": "https://localhost:8080/",
          "height": 34
        },
        "outputId": "3389562c-0477-4196-ae93-9a0450c15ef9"
      },
      "source": [
        "ls"
      ],
      "execution_count": 12,
      "outputs": [
        {
          "output_type": "stream",
          "text": [
            "_annotations.csv  classes.csv  sample_submission.csv  \u001b[0m\u001b[01;34mtest\u001b[0m/  \u001b[01;34mtrain\u001b[0m/\n"
          ],
          "name": "stdout"
        }
      ]
    },
    {
      "cell_type": "code",
      "metadata": {
        "id": "YHSmSaPNJbBo",
        "colab_type": "code",
        "colab": {}
      },
      "source": [
        "import pandas as pd\n",
        "import numpy as np\n",
        "import os\n",
        "import cv2\n",
        "from PIL import Image, ImageDraw\n",
        "from ast import literal_eval\n",
        "import matplotlib.pyplot as plt\n",
        "import urllib\n",
        "from tqdm.notebook import tqdm"
      ],
      "execution_count": 13,
      "outputs": []
    },
    {
      "cell_type": "code",
      "metadata": {
        "id": "2DWRSsjGJgQb",
        "colab_type": "code",
        "colab": {
          "base_uri": "https://localhost:8080/",
          "height": 102
        },
        "outputId": "a94e874b-dea8-4fd7-be2d-ab510253d91d"
      },
      "source": [
        "!git clone https://github.com/fizyr/keras-retinanet.git"
      ],
      "execution_count": 3,
      "outputs": [
        {
          "output_type": "stream",
          "text": [
            "Cloning into 'keras-retinanet'...\n",
            "remote: Enumerating objects: 6014, done.\u001b[K\n",
            "remote: Total 6014 (delta 0), reused 0 (delta 0), pack-reused 6014\u001b[K\n",
            "Receiving objects: 100% (6014/6014), 13.44 MiB | 13.17 MiB/s, done.\n",
            "Resolving deltas: 100% (4061/4061), done.\n"
          ],
          "name": "stdout"
        }
      ]
    },
    {
      "cell_type": "code",
      "metadata": {
        "id": "_0szy_seJjpm",
        "colab_type": "code",
        "colab": {
          "base_uri": "https://localhost:8080/",
          "height": 445
        },
        "outputId": "f67cd9c4-9f21-4699-95dd-0f6ea6737632"
      },
      "source": [
        "%cd keras-retinanet/\n",
        "\n",
        "!pip install ."
      ],
      "execution_count": 4,
      "outputs": [
        {
          "output_type": "stream",
          "text": [
            "/content/keras-retinanet\n",
            "Processing /content/keras-retinanet\n",
            "Requirement already satisfied: keras in /usr/local/lib/python3.6/dist-packages (from keras-retinanet==0.5.1) (2.4.3)\n",
            "Requirement already satisfied: keras-resnet==0.2.0 in /usr/local/lib/python3.6/dist-packages (from keras-retinanet==0.5.1) (0.2.0)\n",
            "Requirement already satisfied: six in /usr/local/lib/python3.6/dist-packages (from keras-retinanet==0.5.1) (1.15.0)\n",
            "Requirement already satisfied: scipy in /usr/local/lib/python3.6/dist-packages (from keras-retinanet==0.5.1) (1.4.1)\n",
            "Requirement already satisfied: cython in /usr/local/lib/python3.6/dist-packages (from keras-retinanet==0.5.1) (0.29.21)\n",
            "Requirement already satisfied: Pillow in /usr/local/lib/python3.6/dist-packages (from keras-retinanet==0.5.1) (7.0.0)\n",
            "Requirement already satisfied: opencv-python in /usr/local/lib/python3.6/dist-packages (from keras-retinanet==0.5.1) (4.1.2.30)\n",
            "Requirement already satisfied: progressbar2 in /usr/local/lib/python3.6/dist-packages (from keras-retinanet==0.5.1) (3.38.0)\n",
            "Requirement already satisfied: pyyaml in /usr/local/lib/python3.6/dist-packages (from keras->keras-retinanet==0.5.1) (3.13)\n",
            "Requirement already satisfied: h5py in /usr/local/lib/python3.6/dist-packages (from keras->keras-retinanet==0.5.1) (2.10.0)\n",
            "Requirement already satisfied: numpy>=1.9.1 in /usr/local/lib/python3.6/dist-packages (from keras->keras-retinanet==0.5.1) (1.18.5)\n",
            "Requirement already satisfied: python-utils>=2.3.0 in /usr/local/lib/python3.6/dist-packages (from progressbar2->keras-retinanet==0.5.1) (2.4.0)\n",
            "Building wheels for collected packages: keras-retinanet\n",
            "  Building wheel for keras-retinanet (setup.py) ... \u001b[?25l\u001b[?25hdone\n",
            "  Created wheel for keras-retinanet: filename=keras_retinanet-0.5.1-cp36-cp36m-linux_x86_64.whl size=171488 sha256=e4c90375f83309bed8cc998f9272f5109c78a544cf4aec571041cec5a5508654\n",
            "  Stored in directory: /root/.cache/pip/wheels/b2/9f/57/cb0305f6f5a41fc3c11ad67b8cedfbe9127775b563337827ba\n",
            "Successfully built keras-retinanet\n",
            "Installing collected packages: keras-retinanet\n",
            "  Found existing installation: keras-retinanet 0.5.1\n",
            "    Uninstalling keras-retinanet-0.5.1:\n",
            "      Successfully uninstalled keras-retinanet-0.5.1\n",
            "Successfully installed keras-retinanet-0.5.1\n"
          ],
          "name": "stdout"
        }
      ]
    },
    {
      "cell_type": "code",
      "metadata": {
        "id": "mNhEnU1hJpli",
        "colab_type": "code",
        "colab": {
          "base_uri": "https://localhost:8080/",
          "height": 411
        },
        "outputId": "3470ba88-5b2f-4bd9-8eb0-64f0b25368c8"
      },
      "source": [
        "!python setup.py build_ext --inplace"
      ],
      "execution_count": 5,
      "outputs": [
        {
          "output_type": "stream",
          "text": [
            "running build_ext\n",
            "cythoning keras_retinanet/utils/compute_overlap.pyx to keras_retinanet/utils/compute_overlap.c\n",
            "/usr/local/lib/python3.6/dist-packages/Cython/Compiler/Main.py:369: FutureWarning: Cython directive 'language_level' not set, using 2 for now (Py2). This will change in a later release! File: /content/keras-retinanet/keras_retinanet/utils/compute_overlap.pyx\n",
            "  tree = Parsing.p_module(s, pxd, full_module_name)\n",
            "building 'keras_retinanet.utils.compute_overlap' extension\n",
            "creating build\n",
            "creating build/temp.linux-x86_64-3.6\n",
            "creating build/temp.linux-x86_64-3.6/keras_retinanet\n",
            "creating build/temp.linux-x86_64-3.6/keras_retinanet/utils\n",
            "x86_64-linux-gnu-gcc -pthread -DNDEBUG -g -fwrapv -O2 -Wall -g -fstack-protector-strong -Wformat -Werror=format-security -Wdate-time -D_FORTIFY_SOURCE=2 -fPIC -I/usr/include/python3.6m -I/usr/local/lib/python3.6/dist-packages/numpy/core/include -c keras_retinanet/utils/compute_overlap.c -o build/temp.linux-x86_64-3.6/keras_retinanet/utils/compute_overlap.o\n",
            "In file included from \u001b[01m\u001b[K/usr/local/lib/python3.6/dist-packages/numpy/core/include/numpy/ndarraytypes.h:1832:0\u001b[m\u001b[K,\n",
            "                 from \u001b[01m\u001b[K/usr/local/lib/python3.6/dist-packages/numpy/core/include/numpy/ndarrayobject.h:12\u001b[m\u001b[K,\n",
            "                 from \u001b[01m\u001b[K/usr/local/lib/python3.6/dist-packages/numpy/core/include/numpy/arrayobject.h:4\u001b[m\u001b[K,\n",
            "                 from \u001b[01m\u001b[Kkeras_retinanet/utils/compute_overlap.c:610\u001b[m\u001b[K:\n",
            "\u001b[01m\u001b[K/usr/local/lib/python3.6/dist-packages/numpy/core/include/numpy/npy_1_7_deprecated_api.h:17:2:\u001b[m\u001b[K \u001b[01;35m\u001b[Kwarning: \u001b[m\u001b[K#warning \"Using deprecated NumPy API, disable it with \" \"#define NPY_NO_DEPRECATED_API NPY_1_7_API_VERSION\" [\u001b[01;35m\u001b[K-Wcpp\u001b[m\u001b[K]\n",
            " #\u001b[01;35m\u001b[Kwarning\u001b[m\u001b[K \"Using deprecated NumPy API, disable it with \" \\\n",
            "  \u001b[01;35m\u001b[K^~~~~~~\u001b[m\u001b[K\n",
            "creating build/lib.linux-x86_64-3.6\n",
            "creating build/lib.linux-x86_64-3.6/keras_retinanet\n",
            "creating build/lib.linux-x86_64-3.6/keras_retinanet/utils\n",
            "x86_64-linux-gnu-gcc -pthread -shared -Wl,-O1 -Wl,-Bsymbolic-functions -Wl,-Bsymbolic-functions -Wl,-z,relro -Wl,-Bsymbolic-functions -Wl,-z,relro -g -fstack-protector-strong -Wformat -Werror=format-security -Wdate-time -D_FORTIFY_SOURCE=2 build/temp.linux-x86_64-3.6/keras_retinanet/utils/compute_overlap.o -o build/lib.linux-x86_64-3.6/keras_retinanet/utils/compute_overlap.cpython-36m-x86_64-linux-gnu.so\n",
            "copying build/lib.linux-x86_64-3.6/keras_retinanet/utils/compute_overlap.cpython-36m-x86_64-linux-gnu.so -> keras_retinanet/utils\n"
          ],
          "name": "stdout"
        }
      ]
    },
    {
      "cell_type": "code",
      "metadata": {
        "id": "-p5r6vdHJqT7",
        "colab_type": "code",
        "colab": {}
      },
      "source": [
        "import tensorflow as tf\n",
        "from keras_retinanet import models\n",
        "from keras_retinanet.utils.image import read_image_bgr, preprocess_image, resize_image\n",
        "from keras_retinanet.utils.visualization import draw_box, draw_caption\n",
        "from keras_retinanet.utils.colors import label_color"
      ],
      "execution_count": 14,
      "outputs": []
    },
    {
      "cell_type": "code",
      "metadata": {
        "id": "z3DndUaMJqpI",
        "colab_type": "code",
        "colab": {}
      },
      "source": [
        "root = \"/content/drive/My Drive/Zindi project2/\"\n",
        "train_img = root+\"train\"\n",
        "test_img = root+\"test\"\n",
        "train_csv = '/content/drive/My Drive/Zindi project2/_annotations.csv'\n",
        "sample_submission = root + \"sample_submission.csv\"\n",
        "classess = '/content/drive/My Drive/Zindi project2/classes.csv' "
      ],
      "execution_count": 15,
      "outputs": []
    },
    {
      "cell_type": "code",
      "metadata": {
        "id": "bbMuq60BJqk0",
        "colab_type": "code",
        "colab": {
          "base_uri": "https://localhost:8080/",
          "height": 204
        },
        "outputId": "974a224d-270a-41ee-ed00-2ce7a871e70a"
      },
      "source": [
        "# classes = pd.read_csv(classess)\n",
        "train = pd.read_csv(train_csv)\n",
        "train.head()"
      ],
      "execution_count": 16,
      "outputs": [
        {
          "output_type": "execute_result",
          "data": {
            "text/html": [
              "<div>\n",
              "<style scoped>\n",
              "    .dataframe tbody tr th:only-of-type {\n",
              "        vertical-align: middle;\n",
              "    }\n",
              "\n",
              "    .dataframe tbody tr th {\n",
              "        vertical-align: top;\n",
              "    }\n",
              "\n",
              "    .dataframe thead th {\n",
              "        text-align: right;\n",
              "    }\n",
              "</style>\n",
              "<table border=\"1\" class=\"dataframe\">\n",
              "  <thead>\n",
              "    <tr style=\"text-align: right;\">\n",
              "      <th></th>\n",
              "      <th>filename</th>\n",
              "      <th>width</th>\n",
              "      <th>height</th>\n",
              "      <th>class</th>\n",
              "      <th>xmin</th>\n",
              "      <th>ymin</th>\n",
              "      <th>xmax</th>\n",
              "      <th>ymax</th>\n",
              "    </tr>\n",
              "  </thead>\n",
              "  <tbody>\n",
              "    <tr>\n",
              "      <th>0</th>\n",
              "      <td>004858_jpg.rf.002ab521984d81c7400faa6f916f5a01...</td>\n",
              "      <td>500</td>\n",
              "      <td>375</td>\n",
              "      <td>head</td>\n",
              "      <td>301</td>\n",
              "      <td>100</td>\n",
              "      <td>330</td>\n",
              "      <td>135</td>\n",
              "    </tr>\n",
              "    <tr>\n",
              "      <th>1</th>\n",
              "      <td>004858_jpg.rf.002ab521984d81c7400faa6f916f5a01...</td>\n",
              "      <td>500</td>\n",
              "      <td>375</td>\n",
              "      <td>head</td>\n",
              "      <td>340</td>\n",
              "      <td>121</td>\n",
              "      <td>370</td>\n",
              "      <td>158</td>\n",
              "    </tr>\n",
              "    <tr>\n",
              "      <th>2</th>\n",
              "      <td>004858_jpg.rf.002ab521984d81c7400faa6f916f5a01...</td>\n",
              "      <td>500</td>\n",
              "      <td>375</td>\n",
              "      <td>head</td>\n",
              "      <td>199</td>\n",
              "      <td>111</td>\n",
              "      <td>223</td>\n",
              "      <td>137</td>\n",
              "    </tr>\n",
              "    <tr>\n",
              "      <th>3</th>\n",
              "      <td>004858_jpg.rf.002ab521984d81c7400faa6f916f5a01...</td>\n",
              "      <td>500</td>\n",
              "      <td>375</td>\n",
              "      <td>head</td>\n",
              "      <td>277</td>\n",
              "      <td>109</td>\n",
              "      <td>295</td>\n",
              "      <td>132</td>\n",
              "    </tr>\n",
              "    <tr>\n",
              "      <th>4</th>\n",
              "      <td>004858_jpg.rf.002ab521984d81c7400faa6f916f5a01...</td>\n",
              "      <td>500</td>\n",
              "      <td>375</td>\n",
              "      <td>head</td>\n",
              "      <td>154</td>\n",
              "      <td>116</td>\n",
              "      <td>174</td>\n",
              "      <td>141</td>\n",
              "    </tr>\n",
              "  </tbody>\n",
              "</table>\n",
              "</div>"
            ],
            "text/plain": [
              "                                            filename  width  ...  xmax ymax\n",
              "0  004858_jpg.rf.002ab521984d81c7400faa6f916f5a01...    500  ...   330  135\n",
              "1  004858_jpg.rf.002ab521984d81c7400faa6f916f5a01...    500  ...   370  158\n",
              "2  004858_jpg.rf.002ab521984d81c7400faa6f916f5a01...    500  ...   223  137\n",
              "3  004858_jpg.rf.002ab521984d81c7400faa6f916f5a01...    500  ...   295  132\n",
              "4  004858_jpg.rf.002ab521984d81c7400faa6f916f5a01...    500  ...   174  141\n",
              "\n",
              "[5 rows x 8 columns]"
            ]
          },
          "metadata": {
            "tags": []
          },
          "execution_count": 16
        }
      ]
    },
    {
      "cell_type": "code",
      "metadata": {
        "id": "xyxsLVjiTwgJ",
        "colab_type": "code",
        "colab": {}
      },
      "source": [
        "with open(\"classes.csv\",\"w\") as file:\n",
        "    file.write(\"helmet,0\")"
      ],
      "execution_count": 17,
      "outputs": []
    },
    {
      "cell_type": "code",
      "metadata": {
        "id": "xQyDtoO2UVqb",
        "colab_type": "code",
        "colab": {}
      },
      "source": [
        "import csv\n",
        "\n",
        "with open('/content/drive/My Drive/Zindi project2/_annotations.csv') as csv_file:\n",
        "    btrain = csv.reader(csv_file)"
      ],
      "execution_count": 18,
      "outputs": []
    },
    {
      "cell_type": "code",
      "metadata": {
        "id": "rydOk9lsMTTB",
        "colab_type": "code",
        "colab": {}
      },
      "source": [
        "EPOCHS = 1\n",
        "BATCH_SIZE=8\n",
        "STEPS = 100 #len(train_df)//BATCH_SIZE #Keeping it small for faster commit\n",
        "LR=0.02"
      ],
      "execution_count": 19,
      "outputs": []
    },
    {
      "cell_type": "code",
      "metadata": {
        "id": "GBqgQQjSMcXR",
        "colab_type": "code",
        "colab": {
          "base_uri": "https://localhost:8080/",
          "height": 221
        },
        "outputId": "eb6c29f5-d0d0-489f-a32d-833adfb68e48"
      },
      "source": [
        "!\"/content/keras-retinanet/keras_retinanet/bin/train.py\" --random-transform --weights {PRETRAINED_MODEL} --lr=0.0001 --batch-size=6 --steps=10 --epochs=5 --no-resize csv _annotations.csv classes.csv"
      ],
      "execution_count": 37,
      "outputs": [
        {
          "output_type": "stream",
          "text": [
            "2020-09-15 22:55:29.272884: I tensorflow/stream_executor/platform/default/dso_loader.cc:48] Successfully opened dynamic library libcudart.so.10.1\n",
            "Traceback (most recent call last):\n",
            "  File \"/content/keras-retinanet/keras_retinanet/bin/train.py\", line 556, in <module>\n",
            "    main()\n",
            "  File \"/content/keras-retinanet/keras_retinanet/bin/train.py\", line 486, in main\n",
            "    train_generator, validation_generator = create_generators(args, backbone.preprocess_image)\n",
            "  File \"/content/keras-retinanet/keras_retinanet/bin/train.py\", line 305, in create_generators\n",
            "    **common_args\n",
            "  File \"/content/keras-retinanet/keras_retinanet/bin/../../keras_retinanet/preprocessing/csv_generator.py\", line 158, in __init__\n",
            "    raise_from(ValueError('invalid CSV annotations file: {}: {}'.format(csv_data_file, e)), None)\n",
            "  File \"<string>\", line 3, in raise_from\n",
            "ValueError: invalid CSV annotations file: _annotations.csv: line 1: malformed x1: invalid literal for int() with base 10: 'width'\n"
          ],
          "name": "stdout"
        }
      ]
    },
    {
      "cell_type": "code",
      "metadata": {
        "id": "wLOOQileYR4G",
        "colab_type": "code",
        "colab": {}
      },
      "source": [
        "train[\"widthBB\"] = train[\"xmax\"] - train[\"xmin\"]\n",
        "train[\"heightBB\"] = train[\"ymax\"] - train[\"ymin\"]"
      ],
      "execution_count": 38,
      "outputs": []
    },
    {
      "cell_type": "code",
      "metadata": {
        "id": "fIMrONG_GU8y",
        "colab_type": "code",
        "colab": {
          "base_uri": "https://localhost:8080/",
          "height": 204
        },
        "outputId": "505e5fbc-236b-4d14-fe80-107aab558188"
      },
      "source": [
        "train.head()"
      ],
      "execution_count": 39,
      "outputs": [
        {
          "output_type": "execute_result",
          "data": {
            "text/html": [
              "<div>\n",
              "<style scoped>\n",
              "    .dataframe tbody tr th:only-of-type {\n",
              "        vertical-align: middle;\n",
              "    }\n",
              "\n",
              "    .dataframe tbody tr th {\n",
              "        vertical-align: top;\n",
              "    }\n",
              "\n",
              "    .dataframe thead th {\n",
              "        text-align: right;\n",
              "    }\n",
              "</style>\n",
              "<table border=\"1\" class=\"dataframe\">\n",
              "  <thead>\n",
              "    <tr style=\"text-align: right;\">\n",
              "      <th></th>\n",
              "      <th>filename</th>\n",
              "      <th>width</th>\n",
              "      <th>height</th>\n",
              "      <th>class</th>\n",
              "      <th>xmin</th>\n",
              "      <th>ymin</th>\n",
              "      <th>xmax</th>\n",
              "      <th>ymax</th>\n",
              "      <th>widthBB</th>\n",
              "      <th>heightBB</th>\n",
              "    </tr>\n",
              "  </thead>\n",
              "  <tbody>\n",
              "    <tr>\n",
              "      <th>0</th>\n",
              "      <td>004858_jpg.rf.002ab521984d81c7400faa6f916f5a01...</td>\n",
              "      <td>500</td>\n",
              "      <td>375</td>\n",
              "      <td>head</td>\n",
              "      <td>301</td>\n",
              "      <td>100</td>\n",
              "      <td>330</td>\n",
              "      <td>135</td>\n",
              "      <td>29</td>\n",
              "      <td>35</td>\n",
              "    </tr>\n",
              "    <tr>\n",
              "      <th>1</th>\n",
              "      <td>004858_jpg.rf.002ab521984d81c7400faa6f916f5a01...</td>\n",
              "      <td>500</td>\n",
              "      <td>375</td>\n",
              "      <td>head</td>\n",
              "      <td>340</td>\n",
              "      <td>121</td>\n",
              "      <td>370</td>\n",
              "      <td>158</td>\n",
              "      <td>30</td>\n",
              "      <td>37</td>\n",
              "    </tr>\n",
              "    <tr>\n",
              "      <th>2</th>\n",
              "      <td>004858_jpg.rf.002ab521984d81c7400faa6f916f5a01...</td>\n",
              "      <td>500</td>\n",
              "      <td>375</td>\n",
              "      <td>head</td>\n",
              "      <td>199</td>\n",
              "      <td>111</td>\n",
              "      <td>223</td>\n",
              "      <td>137</td>\n",
              "      <td>24</td>\n",
              "      <td>26</td>\n",
              "    </tr>\n",
              "    <tr>\n",
              "      <th>3</th>\n",
              "      <td>004858_jpg.rf.002ab521984d81c7400faa6f916f5a01...</td>\n",
              "      <td>500</td>\n",
              "      <td>375</td>\n",
              "      <td>head</td>\n",
              "      <td>277</td>\n",
              "      <td>109</td>\n",
              "      <td>295</td>\n",
              "      <td>132</td>\n",
              "      <td>18</td>\n",
              "      <td>23</td>\n",
              "    </tr>\n",
              "    <tr>\n",
              "      <th>4</th>\n",
              "      <td>004858_jpg.rf.002ab521984d81c7400faa6f916f5a01...</td>\n",
              "      <td>500</td>\n",
              "      <td>375</td>\n",
              "      <td>head</td>\n",
              "      <td>154</td>\n",
              "      <td>116</td>\n",
              "      <td>174</td>\n",
              "      <td>141</td>\n",
              "      <td>20</td>\n",
              "      <td>25</td>\n",
              "    </tr>\n",
              "  </tbody>\n",
              "</table>\n",
              "</div>"
            ],
            "text/plain": [
              "                                            filename  width  ...  widthBB heightBB\n",
              "0  004858_jpg.rf.002ab521984d81c7400faa6f916f5a01...    500  ...       29       35\n",
              "1  004858_jpg.rf.002ab521984d81c7400faa6f916f5a01...    500  ...       30       37\n",
              "2  004858_jpg.rf.002ab521984d81c7400faa6f916f5a01...    500  ...       24       26\n",
              "3  004858_jpg.rf.002ab521984d81c7400faa6f916f5a01...    500  ...       18       23\n",
              "4  004858_jpg.rf.002ab521984d81c7400faa6f916f5a01...    500  ...       20       25\n",
              "\n",
              "[5 rows x 10 columns]"
            ]
          },
          "metadata": {
            "tags": []
          },
          "execution_count": 39
        }
      ]
    },
    {
      "cell_type": "code",
      "metadata": {
        "id": "R3bikfGcK_1W",
        "colab_type": "code",
        "colab": {
          "base_uri": "https://localhost:8080/",
          "height": 34
        },
        "outputId": "02b19a93-7656-49b6-e52a-028fbd1cfed4"
      },
      "source": [
        "print(f\"Total Bboxes: {train.shape[0]}\")"
      ],
      "execution_count": 17,
      "outputs": [
        {
          "output_type": "stream",
          "text": [
            "Total Bboxes: 20231\n"
          ],
          "name": "stdout"
        }
      ]
    },
    {
      "cell_type": "code",
      "metadata": {
        "id": "-aRXAJ6AJqOm",
        "colab_type": "code",
        "colab": {
          "base_uri": "https://localhost:8080/",
          "height": 88
        },
        "outputId": "d33ac33c-4aa6-45c9-c36b-448bca2b3029"
      },
      "source": [
        "train['width'].unique() == train['height'].unique() == [1024]"
      ],
      "execution_count": 18,
      "outputs": [
        {
          "output_type": "stream",
          "text": [
            "/usr/local/lib/python3.6/dist-packages/ipykernel_launcher.py:1: DeprecationWarning: elementwise comparison failed; this will raise an error in the future.\n",
            "  \"\"\"Entry point for launching an IPython kernel.\n"
          ],
          "name": "stderr"
        },
        {
          "output_type": "execute_result",
          "data": {
            "text/plain": [
              "False"
            ]
          },
          "metadata": {
            "tags": []
          },
          "execution_count": 18
        }
      ]
    },
    {
      "cell_type": "code",
      "metadata": {
        "id": "PcUWpsI194aZ",
        "colab_type": "code",
        "colab": {}
      },
      "source": [
        "#def get_bbox_area(widthBB,heightBB):\n",
        " #   widthBB = literal_eval(widthBB)\n",
        "  #  heightBB = literal_eval(widthBB)\n",
        "   # return widthBB * heightBB"
      ],
      "execution_count": null,
      "outputs": []
    },
    {
      "cell_type": "code",
      "metadata": {
        "id": "9QPReYApIuGi",
        "colab_type": "code",
        "colab": {}
      },
      "source": [
        "train['heightBB'] = train['heightBB'].astype(float)\n",
        "train['widthBB'] = train['widthBB'].astype(float)"
      ],
      "execution_count": null,
      "outputs": []
    },
    {
      "cell_type": "code",
      "metadata": {
        "id": "e4sUBKKX94kF",
        "colab_type": "code",
        "colab": {
          "base_uri": "https://localhost:8080/",
          "height": 204
        },
        "outputId": "c8c252c4-1985-41f6-abb4-053b0fd5eb6d"
      },
      "source": [
        "#train['bbox_area'] = train['widthBB','heightBB'].apply(get_bbox_area)\n",
        "train[\"bbox_area\"] = train[\"widthBB\"] * train[\"heightBB\"]\n",
        "train.head()"
      ],
      "execution_count": 41,
      "outputs": [
        {
          "output_type": "execute_result",
          "data": {
            "text/html": [
              "<div>\n",
              "<style scoped>\n",
              "    .dataframe tbody tr th:only-of-type {\n",
              "        vertical-align: middle;\n",
              "    }\n",
              "\n",
              "    .dataframe tbody tr th {\n",
              "        vertical-align: top;\n",
              "    }\n",
              "\n",
              "    .dataframe thead th {\n",
              "        text-align: right;\n",
              "    }\n",
              "</style>\n",
              "<table border=\"1\" class=\"dataframe\">\n",
              "  <thead>\n",
              "    <tr style=\"text-align: right;\">\n",
              "      <th></th>\n",
              "      <th>filename</th>\n",
              "      <th>width</th>\n",
              "      <th>height</th>\n",
              "      <th>class</th>\n",
              "      <th>xmin</th>\n",
              "      <th>ymin</th>\n",
              "      <th>xmax</th>\n",
              "      <th>ymax</th>\n",
              "      <th>widthBB</th>\n",
              "      <th>heightBB</th>\n",
              "      <th>bbox_area</th>\n",
              "    </tr>\n",
              "  </thead>\n",
              "  <tbody>\n",
              "    <tr>\n",
              "      <th>0</th>\n",
              "      <td>004858_jpg.rf.002ab521984d81c7400faa6f916f5a01...</td>\n",
              "      <td>500</td>\n",
              "      <td>375</td>\n",
              "      <td>head</td>\n",
              "      <td>301</td>\n",
              "      <td>100</td>\n",
              "      <td>330</td>\n",
              "      <td>135</td>\n",
              "      <td>29</td>\n",
              "      <td>35</td>\n",
              "      <td>1015</td>\n",
              "    </tr>\n",
              "    <tr>\n",
              "      <th>1</th>\n",
              "      <td>004858_jpg.rf.002ab521984d81c7400faa6f916f5a01...</td>\n",
              "      <td>500</td>\n",
              "      <td>375</td>\n",
              "      <td>head</td>\n",
              "      <td>340</td>\n",
              "      <td>121</td>\n",
              "      <td>370</td>\n",
              "      <td>158</td>\n",
              "      <td>30</td>\n",
              "      <td>37</td>\n",
              "      <td>1110</td>\n",
              "    </tr>\n",
              "    <tr>\n",
              "      <th>2</th>\n",
              "      <td>004858_jpg.rf.002ab521984d81c7400faa6f916f5a01...</td>\n",
              "      <td>500</td>\n",
              "      <td>375</td>\n",
              "      <td>head</td>\n",
              "      <td>199</td>\n",
              "      <td>111</td>\n",
              "      <td>223</td>\n",
              "      <td>137</td>\n",
              "      <td>24</td>\n",
              "      <td>26</td>\n",
              "      <td>624</td>\n",
              "    </tr>\n",
              "    <tr>\n",
              "      <th>3</th>\n",
              "      <td>004858_jpg.rf.002ab521984d81c7400faa6f916f5a01...</td>\n",
              "      <td>500</td>\n",
              "      <td>375</td>\n",
              "      <td>head</td>\n",
              "      <td>277</td>\n",
              "      <td>109</td>\n",
              "      <td>295</td>\n",
              "      <td>132</td>\n",
              "      <td>18</td>\n",
              "      <td>23</td>\n",
              "      <td>414</td>\n",
              "    </tr>\n",
              "    <tr>\n",
              "      <th>4</th>\n",
              "      <td>004858_jpg.rf.002ab521984d81c7400faa6f916f5a01...</td>\n",
              "      <td>500</td>\n",
              "      <td>375</td>\n",
              "      <td>head</td>\n",
              "      <td>154</td>\n",
              "      <td>116</td>\n",
              "      <td>174</td>\n",
              "      <td>141</td>\n",
              "      <td>20</td>\n",
              "      <td>25</td>\n",
              "      <td>500</td>\n",
              "    </tr>\n",
              "  </tbody>\n",
              "</table>\n",
              "</div>"
            ],
            "text/plain": [
              "                                            filename  ...  bbox_area\n",
              "0  004858_jpg.rf.002ab521984d81c7400faa6f916f5a01...  ...       1015\n",
              "1  004858_jpg.rf.002ab521984d81c7400faa6f916f5a01...  ...       1110\n",
              "2  004858_jpg.rf.002ab521984d81c7400faa6f916f5a01...  ...        624\n",
              "3  004858_jpg.rf.002ab521984d81c7400faa6f916f5a01...  ...        414\n",
              "4  004858_jpg.rf.002ab521984d81c7400faa6f916f5a01...  ...        500\n",
              "\n",
              "[5 rows x 11 columns]"
            ]
          },
          "metadata": {
            "tags": []
          },
          "execution_count": 41
        }
      ]
    },
    {
      "cell_type": "code",
      "metadata": {
        "id": "O5T4PVns94MW",
        "colab_type": "code",
        "colab": {
          "base_uri": "https://localhost:8080/",
          "height": 282
        },
        "outputId": "6f84a59a-78a5-4a2b-a03b-9c0c0ad30ba0"
      },
      "source": [
        "train['bbox_area'].value_counts().hist(bins=10)"
      ],
      "execution_count": 42,
      "outputs": [
        {
          "output_type": "execute_result",
          "data": {
            "text/plain": [
              "<matplotlib.axes._subplots.AxesSubplot at 0x7f389830da20>"
            ]
          },
          "metadata": {
            "tags": []
          },
          "execution_count": 42
        },
        {
          "output_type": "display_data",
          "data": {
            "image/png": "[encoded data removed]",
            "text/plain": [
              "<Figure size 432x288 with 1 Axes>"
            ]
          },
          "metadata": {
            "tags": [],
            "needs_background": "light"
          }
        }
      ]
    },
    {
      "cell_type": "code",
      "metadata": {
        "id": "pyJ1HNsHLN4W",
        "colab_type": "code",
        "colab": {
          "base_uri": "https://localhost:8080/",
          "height": 34
        },
        "outputId": "ec6160f6-1b45-4ee4-ed32-d6ebf19e1054"
      },
      "source": [
        "unique_images = train['filename'].unique()\n",
        "len(unique_images)"
      ],
      "execution_count": null,
      "outputs": [
        {
          "output_type": "execute_result",
          "data": {
            "text/plain": [
              "5269"
            ]
          },
          "metadata": {
            "tags": []
          },
          "execution_count": 22
        }
      ]
    },
    {
      "cell_type": "code",
      "metadata": {
        "id": "4PN_glgLLOAo",
        "colab_type": "code",
        "colab": {
          "base_uri": "https://localhost:8080/",
          "height": 34
        },
        "outputId": "0df26ed2-8283-469c-871b-0b89588b55cb"
      },
      "source": [
        "num_total = len(os.listdir(train_img))\n",
        "num_annotated = len(unique_images)\n",
        "\n",
        "print(f\"There are {num_annotated} annotated images and {num_total - num_annotated} images without annotations.\")"
      ],
      "execution_count": null,
      "outputs": [
        {
          "output_type": "stream",
          "text": [
            "There are 5269 annotated images and 5 images without annotations.\n"
          ],
          "name": "stdout"
        }
      ]
    },
    {
      "cell_type": "code",
      "metadata": {
        "id": "PSxslc_JLODA",
        "colab_type": "code",
        "colab": {}
      },
      "source": [
        "#sources = train['source'].unique()\n",
        "#print(f\"There are {len(sources)} sources of data: {sources}\")"
      ],
      "execution_count": null,
      "outputs": []
    },
    {
      "cell_type": "code",
      "metadata": {
        "id": "L4sFcd-oLOGc",
        "colab_type": "code",
        "colab": {}
      },
      "source": [
        "#train['source'].value_counts()"
      ],
      "execution_count": null,
      "outputs": []
    },
    {
      "cell_type": "code",
      "metadata": {
        "id": "wn_KksUfLOM3",
        "colab_type": "code",
        "colab": {
          "base_uri": "https://localhost:8080/",
          "height": 265
        },
        "outputId": "c36b80be-439a-470a-b168-dc58cbf20650"
      },
      "source": [
        "plt.hist(train['filename'].value_counts(), bins=10)\n",
        "plt.show()"
      ],
      "execution_count": null,
      "outputs": [
        {
          "output_type": "display_data",
          "data": {
            "image/png": "[encoded data removed]",
            "text/plain": [
              "<Figure size 432x288 with 1 Axes>"
            ]
          },
          "metadata": {
            "tags": [],
            "needs_background": "light"
          }
        }
      ]
    },
    {
      "cell_type": "code",
      "metadata": {
        "id": "6PvqEpO9-rZy",
        "colab_type": "code",
        "colab": {}
      },
      "source": [
        "#def show_images(images, num = 5):\n",
        "    \n",
        "    images_to_show = np.random.choice(images, num)\n",
        "\n",
        "    for image_id in images_to_show:\n",
        "\n",
        "        image_path = os.path.join(train_img, image_id)\n",
        "        image = Image.open(image_path)\n",
        "\n",
        "        # get all bboxes for given image in [xmin, ymin, width, height]\n",
        "        bboxes = [literal_eval(box) for box in train[train['filename'] == image_id]['bbox']]\n",
        "\n",
        "        # visualize them\n",
        "        draw = ImageDraw.Draw(image)\n",
        "        for bbox in bboxes:    \n",
        "            draw.rectangle([train['xmin'], train['ymin'], train['xmin'] + train['widthbb'], train['ymin'] + train['heightbb']], width=3)\n",
        "\n",
        "        plt.figure(figsize = (15,15))\n",
        "        plt.imshow(image)\n",
        "        plt.show()"
      ],
      "execution_count": null,
      "outputs": []
    },
    {
      "cell_type": "code",
      "metadata": {
        "id": "Awa1DQah-syL",
        "colab_type": "code",
        "colab": {}
      },
      "source": [
        "#show_images(unique_images)"
      ],
      "execution_count": null,
      "outputs": []
    },
    {
      "cell_type": "code",
      "metadata": {
        "id": "oAIGnNHOkcoS",
        "colab_type": "code",
        "colab": {
          "base_uri": "https://localhost:8080/",
          "height": 340
        },
        "outputId": "9080ea2e-f97f-43c6-88b3-4b3316243f2a"
      },
      "source": [
        "print(train.info())"
      ],
      "execution_count": 43,
      "outputs": [
        {
          "output_type": "stream",
          "text": [
            "<class 'pandas.core.frame.DataFrame'>\n",
            "RangeIndex: 20231 entries, 0 to 20230\n",
            "Data columns (total 11 columns):\n",
            " #   Column     Non-Null Count  Dtype \n",
            "---  ------     --------------  ----- \n",
            " 0   filename   20231 non-null  object\n",
            " 1   width      20231 non-null  int64 \n",
            " 2   height     20231 non-null  int64 \n",
            " 3   class      20231 non-null  object\n",
            " 4   xmin       20231 non-null  int64 \n",
            " 5   ymin       20231 non-null  int64 \n",
            " 6   xmax       20231 non-null  int64 \n",
            " 7   ymax       20231 non-null  int64 \n",
            " 8   widthBB    20231 non-null  int64 \n",
            " 9   heightBB   20231 non-null  int64 \n",
            " 10  bbox_area  20231 non-null  int64 \n",
            "dtypes: int64(9), object(2)\n",
            "memory usage: 1.7+ MB\n",
            "None\n"
          ],
          "name": "stdout"
        }
      ]
    },
    {
      "cell_type": "code",
      "metadata": {
        "id": "_hmtg9MmkUIb",
        "colab_type": "code",
        "colab": {}
      },
      "source": [
        "train['class'] = train['class'].astype(str)"
      ],
      "execution_count": null,
      "outputs": []
    },
    {
      "cell_type": "code",
      "metadata": {
        "id": "qSmFVsIZ-vfS",
        "colab_type": "code",
        "colab": {}
      },
      "source": [
        "bboxs=[ f\"{int(float(train['xmin']))}, {int(float(train['ymin']))}, {int(float(train['xmin']))+int(float(train['widthBB']))}, {int(float(train['ymin'])) + int(float(train['heightBB']))}, train['class']\" \n",
        "       for x in train]\n",
        "train['bbox_']=bboxs\n",
        "train.head()"
      ],
      "execution_count": null,
      "outputs": []
    },
    {
      "cell_type": "code",
      "metadata": {
        "id": "Ox43hoxO-2wE",
        "colab_type": "code",
        "colab": {}
      },
      "source": [
        "train_df=train[['filename','bbox_']]\n",
        "train_df.head()"
      ],
      "execution_count": null,
      "outputs": []
    },
    {
      "cell_type": "code",
      "metadata": {
        "id": "7kqfIlBY-6Bx",
        "colab_type": "code",
        "colab": {}
      },
      "source": [
        "train_df=train_df.sample(frac=1).reset_index(drop=True)\n",
        "train_df.head()"
      ],
      "execution_count": null,
      "outputs": []
    },
    {
      "cell_type": "code",
      "metadata": {
        "id": "CkpZYt4g_AaU",
        "colab_type": "code",
        "colab": {}
      },
      "source": [
        "with open(\"annotations.csv\",\"w\") as file:\n",
        "    for idx in range(len(train_df)):\n",
        "        file.write(train_img+\"/\"+train_df.iloc[idx,0]+\".jpg\"+\",\"+train_df.iloc[idx,1]+\"\\n\")"
      ],
      "execution_count": null,
      "outputs": []
    },
    {
      "cell_type": "code",
      "metadata": {
        "id": "xSRSfBptTLP0",
        "colab_type": "code",
        "colab": {}
      },
      "source": [
        "with open(\"classes.csv\",\"w\") as file:\n",
        "    file.write(\"head,0\", \"helmet,1\", \"person,2\")"
      ],
      "execution_count": null,
      "outputs": []
    },
    {
      "cell_type": "code",
      "metadata": {
        "id": "mpBjhF8aTLMX",
        "colab_type": "code",
        "colab": {
          "base_uri": "https://localhost:8080/",
          "height": 34
        },
        "outputId": "f969b34d-c2aa-4dd6-a3a9-f3d60687009a"
      },
      "source": [
        "PRETRAINED_MODEL = './snapshots/_pretrained_model.h5'\n",
        "\n",
        "#### OPTION 1: DOWNLOAD INITIAL PRETRAINED MODEL FROM FIZYR ####\n",
        "URL_MODEL = 'https://github.com/fizyr/keras-retinanet/releases/download/0.5.0/resnet50_coco_best_v2.1.0.h5'\n",
        "import requests\n",
        "requests.get(URL_MODEL, PRETRAINED_MODEL)\n",
        "print('Downloaded pretrained model to ' + PRETRAINED_MODEL)"
      ],
      "execution_count": null,
      "outputs": [
        {
          "output_type": "stream",
          "text": [
            "Downloaded pretrained model to ./snapshots/_pretrained_model.h5\n"
          ],
          "name": "stdout"
        }
      ]
    },
    {
      "cell_type": "markdown",
      "metadata": {
        "id": "CkGxCzJYMq2T",
        "colab_type": "text"
      },
      "source": [
        "**The next code will train the model, may take some time**\n",
        "\n",
        "---\n",
        "\n"
      ]
    },
    {
      "cell_type": "markdown",
      "metadata": {
        "id": "-lP1LhDUM5kT",
        "colab_type": "text"
      },
      "source": [
        "**Loading the trained model**\n",
        "\n",
        "---\n",
        "\n"
      ]
    },
    {
      "cell_type": "code",
      "metadata": {
        "id": "X4T3y4MJMgKY",
        "colab_type": "code",
        "colab": {}
      },
      "source": [
        "!ls snapshots"
      ],
      "execution_count": null,
      "outputs": []
    },
    {
      "cell_type": "code",
      "metadata": {
        "id": "5iKKuPjsNCI0",
        "colab_type": "code",
        "colab": {}
      },
      "source": [
        "model_path = os.path.join('snapshots', sorted(os.listdir('snapshots'), reverse=True)[0])\n",
        "\n",
        "model = models.load_model(model_path, backbone_name='resnet50')\n",
        "model = models.convert_model(model)"
      ],
      "execution_count": null,
      "outputs": []
    },
    {
      "cell_type": "markdown",
      "metadata": {
        "id": "D4SomQ1YNJ8z",
        "colab_type": "text"
      },
      "source": [
        "**Predictions**\n",
        "\n",
        "---\n",
        "\n"
      ]
    },
    {
      "cell_type": "code",
      "metadata": {
        "id": "_z6LMzaBNGy0",
        "colab_type": "code",
        "colab": {}
      },
      "source": [
        "li=os.listdir(test_img)\n",
        "li[:5]"
      ],
      "execution_count": null,
      "outputs": []
    },
    {
      "cell_type": "code",
      "metadata": {
        "id": "CyhRVb7uNR0J",
        "colab_type": "code",
        "colab": {}
      },
      "source": [
        "def predict(image):\n",
        "    image = preprocess_image(image.copy())\n",
        "    #image, scale = resize_image(image)\n",
        "\n",
        "    boxes, scores, labels = model.predict_on_batch(\n",
        "    np.expand_dims(image, axis=0)\n",
        "  )\n",
        "\n",
        "    #boxes /= scale\n",
        "\n",
        "    return boxes, scores, labels"
      ],
      "execution_count": null,
      "outputs": []
    },
    {
      "cell_type": "code",
      "metadata": {
        "id": "TAaLcMa4NU8t",
        "colab_type": "code",
        "colab": {}
      },
      "source": [
        "THRES_SCORE = 0.5\n",
        "\n",
        "def draw_detections(image, boxes, scores, labels):\n",
        "    for box, score, label in zip(boxes[0], scores[0], labels[0]):\n",
        "        if score < THRES_SCORE:\n",
        "            break\n",
        "\n",
        "        color = label_color(label)\n",
        "\n",
        "        b = box.astype(int)\n",
        "        draw_box(image, b, color=color)\n",
        "\n",
        "        caption = \"{:.3f}\".format(score)\n",
        "        draw_caption(image, b, caption)"
      ],
      "execution_count": null,
      "outputs": []
    },
    {
      "cell_type": "code",
      "metadata": {
        "id": "wD_dLHqKNYlE",
        "colab_type": "code",
        "colab": {}
      },
      "source": [
        "def show_detected_objects(image_name):\n",
        "    img_path = test_img+'/'+image_name\n",
        "  \n",
        "    image = read_image_bgr(img_path)\n",
        "\n",
        "    boxes, scores, labels = predict(image)\n",
        "    print(boxes[0,0].shape)\n",
        "    draw = image.copy()\n",
        "    draw = cv2.cvtColor(draw, cv2.COLOR_BGR2RGB)\n",
        "\n",
        "    draw_detections(draw, boxes, scores, labels)\n",
        "    plt.figure(figsize=(15,10))\n",
        "    plt.axis('off')\n",
        "    plt.imshow(draw)\n",
        "    plt.show()"
      ],
      "execution_count": null,
      "outputs": []
    },
    {
      "cell_type": "code",
      "metadata": {
        "id": "pIlXEVqQNcP0",
        "colab_type": "code",
        "colab": {}
      },
      "source": [
        "for img in li:\n",
        "    show_detected_objects(img)"
      ],
      "execution_count": null,
      "outputs": []
    },
    {
      "cell_type": "code",
      "metadata": {
        "id": "hYCSwVrxNf2Y",
        "colab_type": "code",
        "colab": {}
      },
      "source": [
        "preds=[]\n",
        "imgid=[]\n",
        "for img in tqdm(li,total=len(li)):\n",
        "    img_path = test_img+'/'+img\n",
        "    image = read_image_bgr(img_path)\n",
        "    boxes, scores, labels = predict(image)\n",
        "    boxes=boxes[0]\n",
        "    scores=scores[0]\n",
        "    for idx in range(boxes.shape[0]):\n",
        "        if scores[idx]>THRES_SCORE:\n",
        "            box,score=boxes[idx],scores[idx]\n",
        "            imgid.append(img.split(\".\")[0])\n",
        "            preds.append(\"{} {} {} {} {}\".format(score, int(box[0]), int(box[1]), int(box[2]-box[0]), int(box[3]-box[1])))"
      ],
      "execution_count": null,
      "outputs": []
    },
    {
      "cell_type": "code",
      "metadata": {
        "id": "uwxuHXy-NmLM",
        "colab_type": "code",
        "colab": {}
      },
      "source": [
        "preds[0]"
      ],
      "execution_count": null,
      "outputs": []
    },
    {
      "cell_type": "code",
      "metadata": {
        "id": "lY0jAJ_MNpf5",
        "colab_type": "code",
        "colab": {}
      },
      "source": [
        "sub={\"image_id\":imgid, \"PredictionString\":preds}\n",
        "sub=pd.DataFrame(sub)\n",
        "sub.head()"
      ],
      "execution_count": null,
      "outputs": []
    },
    {
      "cell_type": "code",
      "metadata": {
        "id": "MWBA9bZ7NvUY",
        "colab_type": "code",
        "colab": {}
      },
      "source": [
        "sub_=sub.groupby([\"image_id\"])['PredictionString'].apply(lambda x: ' '.join(x)).reset_index()\n",
        "sub_"
      ],
      "execution_count": null,
      "outputs": []
    },
    {
      "cell_type": "code",
      "metadata": {
        "id": "XGgCtdDvN0nT",
        "colab_type": "code",
        "colab": {}
      },
      "source": [
        "samsub=pd.read_csv(\"/kaggle/input/global-wheat-detection/sample_submission.csv\")\n",
        "samsub.head()"
      ],
      "execution_count": null,
      "outputs": []
    },
    {
      "cell_type": "code",
      "metadata": {
        "id": "ben6MIQXN4nO",
        "colab_type": "code",
        "colab": {}
      },
      "source": [
        "for idx,imgid in enumerate(samsub['image_id']):\n",
        "    samsub.iloc[idx,1]=sub_[sub_['image_id']==imgid].values[0,1]\n",
        "    \n",
        "samsub.head()"
      ],
      "execution_count": null,
      "outputs": []
    },
    {
      "cell_type": "code",
      "metadata": {
        "id": "6UXNFK2kN7eP",
        "colab_type": "code",
        "colab": {}
      },
      "source": [
        "samsub.to_csv('/kaggle/working/submission.csv',index=False)"
      ],
      "execution_count": null,
      "outputs": []
    }
  ]
}